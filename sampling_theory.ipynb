{
 "cells": [
  {
   "cell_type": "markdown",
   "metadata": {},
   "source": [
    "# Sampling of Signals"
   ]
  },
  {
   "cell_type": "markdown",
   "metadata": {},
   "source": [
    "## Nyquist–Shannon Sampling Theorem\n",
    "\n",
    "* Defines the requisites of the sampling process to be sucessful.\n",
    "\n",
    "* Let $s(t)$ a band-width limited signal, with maximum frequency component $f_\\text{m}$ Hz. The Sampling Theorem says that, in order to sample $s(t)$, $2f_\\text{m}$ samples per second must taken.  $2f_\\text{m}$ is known as the Nyquist Frequency.\n",
    "\n",
    "### Proof\n",
    "\n",
    "* According to the statement, we have that $S(\\omega)=0$ when $|\\omega|>\\omega_\\text{m}$ (it is limited in band), where $\\omega_\\text{m}=2\\pi f_\\text{m}$ is the maximum angular frequency of $s(t)$.\n",
    "  <img src=\"figures/ft.png\" width=600>\n",
    "\n",
    "* The sampling process of $s(t)$ can be modeled mathematically by the multiplication of $s(t)$ with a train of unit impulses $\\delta_{T_\\text{s}}(t)$ from period $T_\\text{s}$. Let\n",
    "\n",
    "  \\begin{equation}\n",
    "    s_\\text{s}(t)=s(t)\\delta_{T_\\text{s}}(t)\n",
    "  \\end{equation}\n",
    "  \n",
    "  the resulting sampled signal, where \n",
    "  \n",
    "  \\begin{equation}\n",
    "    \\delta_{T_\\text{s}}(t)= \\sum_{n=-\\infty}^{\\infty}\\delta(t-nT_\\text{s})                                                                                                                                                           \n",
    "  \\end{equation}\n",
    "  \n",
    "  and\n",
    "  \n",
    "  \\begin{equation}                                                                                                                                                                                                                 \n",
    "    T_\\text{s}=\\frac{2\\pi}{\\omega_\\text{s}}                                                                                                                                                                                               \n",
    "  \\end{equation}\n",
    "  \n",
    "  is the sampling period, being\n",
    "\n",
    "  \\begin{equation}\n",
    "    \\omega_\\text{s} = 2\\pi f_\\text{s}                                                                                                                                                                                                     \n",
    "  \\end{equation}\n",
    "  \n",
    "  is the angular sampling frequency, expresed in radians/second.\n",
    "  \n",
    "* As it is known (v\\'ease \\href{../Theory/index.html#x1-15002r1}{${\\cal F}[\\delta_T(t)]$}),\n",
    "  \n",
    "  \\begin{equation}\n",
    "    {\\mathcal F}[\\delta_{T_\\text{s}}(t)]=\\Delta_{T_\\text{s}}(\\omega)=\\omega_\\text{s}\\delta_{\\omega_\\text{s}}(\\omega).                                                                                                                                                \n",
    "  \\end{equation}\n",
    "  \n",
    "  Considering that the multiplication of two functions in the time domain is equivalent to the convolution of their spectrums, it holds that\n",
    "\n",
    "  \\begin{equation}\n",
    "    S_\\text{s}(\\omega) = \\frac{1}{2\\pi}\\big(S(\\omega)*\\omega_\\text{s}\\delta_{\\omega_\\text{s}}(\\omega)\\big).                                                                                                                                                          \n",
    "  \\end{equation}\n",
    "\n",
    "  After substituting $\\omega_\\text{s}=\\frac{2\\pi}{T_\\text{s}}$, we get that\n",
    "  \n",
    "  \\begin{equation}\n",
    "    S_\\text{s}(\\omega) = \\frac{1}{T_\\text{s}}(S(\\omega)*\\delta_{\\omega_\\text{s}}(\\omega))\n",
    "  \\end{equation}\n",
    "  \n",
    "  which by definition of $\\delta_{\\omega_\\text{s}}(\\omega)$, is\n",
    "  \n",
    "  \\begin{equation}                                                                                                                                                                                                                 \n",
    "    = \\frac{1}{T_\\text{s}}\\big(S(\\omega)*\\sum_{n=-\\infty}^{\\infty}\\delta(\\omega-n\\omega_\\text{s})\\big)                                                                                                                                              \n",
    "  \\end{equation}\n",
    "  \\begin{equation}\n",
    "    = \\frac{1}{T_\\text{s}}\\sum_{n=-\\infty}^{\\infty}S(\\omega)*\\delta(\\omega-n\\omega_\\text{s})\n",
    "  \\end{equation}\n",
    "  \\begin{equation}\n",
    "    = \\frac{1}{T_\\text{s}}\\sum_{n=-\\infty}^{\\infty}S(\\omega-n\\omega_\\text{s}).\n",
    "  \\end{equation}\n",
    "  \n",
    "  Therefore, the spectrum of $s_\\text{s}(t)$ is equal to the replica  of the spectrum of $s(t)$ every $\\omega_\\text{s}$ radians/seconds.\n"
   ]
  },
  {
   "cell_type": "code",
   "execution_count": null,
   "metadata": {},
   "outputs": [],
   "source": []
  }
 ],
 "metadata": {
  "kernelspec": {
   "display_name": "Python 3",
   "language": "python",
   "name": "python3"
  },
  "language_info": {
   "codemirror_mode": {
    "name": "ipython",
    "version": 3
   },
   "file_extension": ".py",
   "mimetype": "text/x-python",
   "name": "python",
   "nbconvert_exporter": "python",
   "pygments_lexer": "ipython3",
   "version": "3.6.3"
  }
 },
 "nbformat": 4,
 "nbformat_minor": 2
}
