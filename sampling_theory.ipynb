{
 "cells": [
  {
   "cell_type": "markdown",
   "metadata": {},
   "source": [
    "# Sampling of Signals"
   ]
  },
  {
   "cell_type": "markdown",
   "metadata": {},
   "source": [
    "## Nyquist–Shannon Sampling Theorem\n",
    "\n",
    "* Defines the requisites of the sampling process to be sucessful.\n",
    "\n",
    "* Let $s(t)$ a band-width limited signal, with maximum frequency component $f_\\text{m}$ Hz. The Sampling Theorem says that, in order to sample $s(t)$, $2f_\\text{m}$ samples per second must taken.  $2f_\\text{m}$ is known as the Nyquist Frequency.\n",
    "\n",
    "### Proof\n",
    "\n",
    "* According to the statement, we have that $S(\\omega)=0$ when $|\\omega|>\\omega_\\text{m}$ (it is limited in band), where $\\omega_\\text{m}=2\\pi f_\\text{m}$ is the maximum angular frequency of $s(t)$.\n",
    "  <img src=\"figures/ft.png\" width=600>\n",
    " "
   ]
  },
  {
   "cell_type": "code",
   "execution_count": null,
   "metadata": {},
   "outputs": [],
   "source": []
  }
 ],
 "metadata": {
  "kernelspec": {
   "display_name": "Python 3",
   "language": "python",
   "name": "python3"
  },
  "language_info": {
   "codemirror_mode": {
    "name": "ipython",
    "version": 3
   },
   "file_extension": ".py",
   "mimetype": "text/x-python",
   "name": "python",
   "nbconvert_exporter": "python",
   "pygments_lexer": "ipython3",
   "version": "3.6.3"
  }
 },
 "nbformat": 4,
 "nbformat_minor": 2
}
